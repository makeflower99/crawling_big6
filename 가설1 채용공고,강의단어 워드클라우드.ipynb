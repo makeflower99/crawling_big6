{
 "cells": [
  {
   "cell_type": "code",
   "execution_count": 6,
   "id": "01df234a-f928-4f94-9534-20e41ec62ae6",
   "metadata": {},
   "outputs": [
    {
     "data": {
      "image/png": "[encoded data removed]",
      "text/plain": [
       "<Figure size 500x500 with 1 Axes>"
      ]
     },
     "metadata": {},
     "output_type": "display_data"
    },
    {
     "data": {
      "image/png": "[encoded data removed]",
      "text/plain": [
       "<Figure size 500x500 with 1 Axes>"
      ]
     },
     "metadata": {},
     "output_type": "display_data"
    }
   ],
   "source": [
    "import pandas as pd\n",
    "import numpy as np\n",
    "from wordcloud import WordCloud\n",
    "import matplotlib.pyplot as plt\n",
    "import matplotlib as mpl\n",
    "\n",
    "# 각 csv파일(채용공고-changeskill,단어통합-추출단어정리)는\n",
    "#  이 파일이 위치하는 곳에 위치해야합니다.\n",
    "\n",
    "\n",
    "## 채용공고 워드클라우드\n",
    "\n",
    "df = pd.read_csv('./changeskill.csv')\n",
    "\n",
    "dic_word = df.set_index('노출명').to_dict()['노출수']\n",
    "\n",
    "\n",
    "\n",
    "# 한글 깨짐 -> 저장해두고 사용하기\n",
    "\n",
    "font_path=\"C:/Windows/Fonts/malgun.ttf\"\n",
    "\n",
    "\n",
    "wc = WordCloud(random_state = 123, font_path = font_path, width = 400,\n",
    "               height = 400, background_color = 'white', colormap='gnuplot')\n",
    "\n",
    "img_wordcloud = wc.generate_from_frequencies(dic_word)\n",
    "\n",
    "plt.figure(figsize = (5, 5)) # 크기 지정하기\n",
    "plt.axis('off') # 축 없애기\n",
    "plt.savefig('채용_워드클라우드2') # 파일 저장\n",
    "\n",
    "df = pd.read_csv('./추출단어정리.csv')\n",
    "\n",
    "# 빈도 수 5개 이하 날리기\n",
    "\n",
    "dic_word = df.set_index('word').to_dict()['count']\n",
    "\n",
    "# count 가 5 이하인 키를 제거\n",
    "dic_word = {key: value for key, value in dic_word.items() if value >= 5}\n",
    "\n",
    "\n",
    "\n",
    "# 한글 깨짐 -> 저장해두고 사용하기\n",
    "font_path=\"C:/Windows/Fonts/malgun.ttf\"\n",
    "\n",
    "wc = WordCloud(random_state = 123, font_path = font_path, width = 400,\n",
    "               height = 400, background_color = 'white', colormap='seismic')\n",
    "\n",
    "img_wordcloud = wc.generate_from_frequencies(dic_word)\n",
    "\n",
    "plt.figure(figsize = (5, 5)) # 크기 지정하기\n",
    "plt.axis('off') # 축 없애기\n",
    "plt.savefig('강의_워드클라우드_5이하') # 파일 저장\n"
   ]
  },
  {
   "cell_type": "code",
   "execution_count": null,
   "id": "3d9f957a-3f69-4871-ac63-40a7d1c27821",
   "metadata": {},
   "outputs": [],
   "source": []
  },
  {
   "cell_type": "code",
   "execution_count": null,
   "id": "4d6d0423-2bf6-46d9-8f52-c3687528b6b9",
   "metadata": {},
   "outputs": [],
   "source": []
  },
  {
   "cell_type": "code",
   "execution_count": null,
   "id": "d9771a3a-b000-41ce-9c31-25043e25640f",
   "metadata": {},
   "outputs": [],
   "source": []
  },
  {
   "cell_type": "code",
   "execution_count": null,
   "id": "dd759c6e-ba7f-432a-808b-a49f7286af9f",
   "metadata": {},
   "outputs": [],
   "source": []
  },
  {
   "cell_type": "code",
   "execution_count": null,
   "id": "0cfb02d1-2c53-4191-9c42-998e3e986f57",
   "metadata": {},
   "outputs": [],
   "source": []
  },
  {
   "cell_type": "code",
   "execution_count": null,
   "id": "2623514f-1757-43e8-b61a-c7e23e10c8df",
   "metadata": {},
   "outputs": [],
   "source": []
  }
 ],
 "metadata": {
  "kernelspec": {
   "display_name": "Python 3 (ipykernel)",
   "language": "python",
   "name": "python3"
  },
  "language_info": {
   "codemirror_mode": {
    "name": "ipython",
    "version": 3
   },
   "file_extension": ".py",
   "mimetype": "text/x-python",
   "name": "python",
   "nbconvert_exporter": "python",
   "pygments_lexer": "ipython3",
   "version": "3.11.5"
  }
 },
 "nbformat": 4,
 "nbformat_minor": 5
}
