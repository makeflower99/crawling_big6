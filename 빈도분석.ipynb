{
 "cells": [
  {
   "cell_type": "code",
   "execution_count": null,
   "id": "4ba04ef2",
   "metadata": {},
   "outputs": [],
   "source": [
    "import pandas as pd\n",
    "import matplotlib.pyplot as plt\n",
    "\n",
    "#파일 불러옴\n",
    "#불러올 파일인 '추출단어정리.csv' 파일은 이 파일과 같은 위치에 있어야 한다.\n",
    "\n",
    "search_data= pd.read_csv('./추출단어정리.csv')\n",
    "\n",
    "# 검색데이터에서 상위 10개 추출\n",
    "top10_search_data=search_data.head(10)\n",
    "search_y= top10_search_data['count']\n",
    "search_x= top10_search_data['word']\n",
    "\n",
    "plt.rc('font', family='Malgun Gothic')\n",
    "fig,ax=plt.subplots()\n",
    "\n",
    "ax.bar(search_x,search_y,color='skyblue')\n",
    "plt.title('강의명에서 추출한 명사 상위 10개')\n",
    "plt.xlabel('단어 목록')\n",
    "plt.ylabel('빈도 수')\n",
    "plt.xticks(rotation=90)\n",
    "plt.savefig('lecture.png',format='png',dpi=200,pad_inches=0.3,bbox_inches='tight')\n",
    "plt.show()"
   ]
  },
  {
   "cell_type": "code",
   "execution_count": null,
   "id": "5b2bacb2",
   "metadata": {},
   "outputs": [],
   "source": [
    "import pandas as pd\n",
    "import matplotlib.pyplot as plt\n",
    "\n",
    "#불러올 파일인 'changeskill.csv' 파일은 이 파일과 같은 위치에 있어야 한다.\n",
    "\n",
    "skill_data= pd.read_csv('./changeskill.csv',encoding='cp949')\n",
    "\n",
    "# 검색데이터에서 상위 10개 추출\n",
    "\n",
    "search_y= skill_data['채용공고언급횟수']\n",
    "search_x= skill_data['스킬']\n",
    "\n",
    "plt.rc('font', family='Malgun Gothic')\n",
    "\n",
    "fig,ax=plt.subplots()\n",
    "\n",
    "ax.bar(search_x,search_y,color='orange')\n",
    "\n",
    "\n",
    "plt.title('채용공고 내 언급된 기술 및 지식')\n",
    "plt.xlabel('단어 목록')\n",
    "plt.ylabel('빈도 수')\n",
    "plt.xticks(rotation=90)\n",
    "\n",
    "plt.savefig('employment.png',format='png',dpi=200,pad_inches=0.3,bbox_inches='tight')\n",
    "\n",
    "plt.show()"
   ]
  }
 ],
 "metadata": {
  "kernelspec": {
   "display_name": "Python 3 (ipykernel)",
   "language": "python",
   "name": "python3"
  },
  "language_info": {
   "codemirror_mode": {
    "name": "ipython",
    "version": 3
   },
   "file_extension": ".py",
   "mimetype": "text/x-python",
   "name": "python",
   "nbconvert_exporter": "python",
   "pygments_lexer": "ipython3",
   "version": "3.11.5"
  }
 },
 "nbformat": 4,
 "nbformat_minor": 5
}
