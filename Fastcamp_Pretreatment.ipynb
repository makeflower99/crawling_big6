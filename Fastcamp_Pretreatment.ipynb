{
  "nbformat": 4,
  "nbformat_minor": 0,
  "metadata": {
    "colab": {
      "provenance": [],
      "authorship_tag": "ABX9TyMoJecrtPdbfzDc/P7+PFhB",
      "include_colab_link": true
    },
    "kernelspec": {
      "name": "python3",
      "display_name": "Python 3"
    },
    "language_info": {
      "name": "python"
    }
  },
  "cells": [
    {
      "cell_type": "markdown",
      "metadata": {
        "id": "view-in-github",
        "colab_type": "text"
      },
      "source": [
        "<a href=\"https://colab.research.google.com/github/makeflower99/test/blob/master/Fastcamp_Pretreatment.ipynb\" target=\"_parent\"><img src=\"https://colab.research.google.com/assets/colab-badge.svg\" alt=\"Open In Colab\"/></a>"
      ]
    },
    {
      "cell_type": "code",
      "execution_count": null,
      "metadata": {
        "id": "fktQ7ily9JfK"
      },
      "outputs": [],
      "source": [
        "!apt-get update\n",
        "!apt install chromium-chromedriver\n",
        "!pip install selenium\n",
        "!pip install konlpy"
      ]
    },
    {
      "cell_type": "code",
      "source": [
        "from konlpy.tag import Okt\n",
        "from collections import Counter\n",
        "from konlpy.tag import Hannanum\n",
        "import re\n",
        "import pandas as pd\n",
        "#크롤링한 결과 불러오기\n",
        "# 'Fastcamp.csv'은 파일위치에서 최상위부분에 위치하여야한다.\n",
        "#파일 넣는 방법 좌측에 폴더를 클릭한 후\n",
        "# ..(상위폴더로 이동)을 선택한 후 파일 업로드 버튼을 눌러 업로드 한다.\n",
        "# 저장된 파일은 content폴더에 위치해있습니다.\n",
        "\n",
        "\n",
        "#data 불러오기\n",
        "df = pd.read_csv(\"/Fastcamp.csv\")\n",
        "\n",
        "#한글기준으로 문자 전부 추출\n",
        "hannanum = Hannanum()\n",
        "nouns = []\n",
        "for i in df[\"강좌명\"]:\n",
        "  nouns.extend(hannanum.nouns(i))\n",
        "\n",
        "df_1 = pd.DataFrame({\"명사\": nouns})#한글로 된 아이들만 빼서 df_1\n",
        "df['영어강좌명'] = ''\n",
        "\n",
        "# \"강좌명\" 열의 각 행에 대해 처리\n",
        "for i in range(len(df)):\n",
        "    course_name = df.loc[i, '강좌명']\n",
        "\n",
        "    # 영어만 추출하여 새로운 열에 저장\n",
        "    english_part = re.sub('[^a-zA-Z\\s]', '', course_name)\n",
        "    df.at[i, '영어강좌명'] = english_part\n",
        "\n",
        "english_words = []\n",
        "\n",
        "# \"영어강좌명\" 열의 값이 있는 경우, 띄어쓰기 단위로 단어 추출하여 리스트에 추가\n",
        "for english_course in df['영어강좌명']:\n",
        "    if pd.notna(english_course):\n",
        "        words = english_course.split()\n",
        "        english_words.extend(words)\n",
        "english_words_df = pd.DataFrame(english_words, columns=[\"영어단어추출\"])\n",
        "\n",
        "result_df = pd.concat([df_1, english_words_df], axis=1)\n",
        "result_df = result_df[~result_df[\"명사\"].isin([\"&\", \"1\", \"2\", \"3\"])]\n",
        "\n",
        "#한글중에 가장 많이 나온 단어\n",
        "korean_rank=pd.DataFrame(result_df[\"명사\"].value_counts())\n",
        "english_rank=pd.DataFrame(result_df[\"영어단어추출\"].value_counts())\n",
        "\n",
        "korean_rank.to_csv(\"한글순위.csv\",index=False)\n",
        "english_rank.to_csv(\"영어순위.csv\",index=False)\n",
        "\n"
      ],
      "metadata": {
        "id": "ipgeaKY79TUm"
      },
      "execution_count": 11,
      "outputs": []
    }
  ]
}