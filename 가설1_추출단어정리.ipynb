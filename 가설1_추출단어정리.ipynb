{
  "nbformat": 4,
  "nbformat_minor": 0,
  "metadata": {
    "colab": {
      "provenance": [],
      "authorship_tag": "ABX9TyOqxRCp0U2wNgjt/yEXKNhp",
      "include_colab_link": true
    },
    "kernelspec": {
      "name": "python3",
      "display_name": "Python 3"
    },
    "language_info": {
      "name": "python"
    }
  },
  "cells": [
    {
      "cell_type": "markdown",
      "metadata": {
        "id": "view-in-github",
        "colab_type": "text"
      },
      "source": [
        "<a href=\"https://colab.research.google.com/github/makeflower99/test/blob/master/%EA%B0%80%EC%84%A41_%EC%B6%94%EC%B6%9C%EB%8B%A8%EC%96%B4%EC%A0%95%EB%A6%AC.ipynb\" target=\"_parent\"><img src=\"https://colab.research.google.com/assets/colab-badge.svg\" alt=\"Open In Colab\"/></a>"
      ]
    },
    {
      "cell_type": "code",
      "execution_count": null,
      "metadata": {
        "id": "EJg_uiAnAQP3"
      },
      "outputs": [],
      "source": [
        "\n",
        "import pandas as pd\n",
        "\n",
        "# 관련 데이터 다 불러오기\n",
        "# 한글순위.csv','영어순위.csv','Inflearn_ko.csv','Inflearn_en.csv','Sparta_result.csv'은\n",
        "# 파일위치에서 최상위부분에 위치하여야한다.\n",
        "# 파일 넣는 방법 좌측에 폴더를 클릭한 후\n",
        "# ..(상위폴더로 이동)을 선택한 후 파일 업로드 버튼을 눌러 업로드 한다.\n",
        "# 저장된 파일은 content폴더에 위치해있습니다.\n",
        "\n",
        "패캠한글=pd.read_csv(\"/한글순위.csv\")\n",
        "패캠영어=pd.read_csv(\"/영어순위.csv\")\n",
        "인프런한글=pd.read_csv(\"/Inflearn_ko.csv\")\n",
        "인프런영어=pd.read_csv(\"/Inflearn_en.csv\")\n",
        "스파르타종합=pd.read_csv(\"/Sparta_result.csv\")\n",
        "\n",
        "#인프런 정렬 및 열이름통일\n",
        "인프런통합 = pd.concat([인프런한글, 인프런영어], ignore_index=True)\n",
        "인프런통합 = 인프런통합.sort_values(by=\"count\",ascending=False)\n",
        "인프런통합\n",
        "\n",
        "#패스트캠퍼스 정렬 및 열이름 통일\n",
        "패캠한글 = 패캠한글.rename(columns ={\"Unnamed: 0\":\"word\",\"명사\":\"count\"})\n",
        "패캠영어 = 패캠영어.rename(columns ={\"Unnamed: 0\":\"word\",\"영어단어추출\":\"count\"})\n",
        "패캠통합 = pd.concat([패캠한글, 패캠영어])\n",
        "#패캠통합=패캠통합.rename(columns ={\"Unnamed: 0\":\"word\",\"명사\":\"count\"})\n",
        "\n",
        "패캠통합 = 패캠통합.sort_values(by=\"count\",ascending = False)\n",
        "패캠통합\n",
        "\n",
        "#스파르타 정렬 및 열이름 통일\n",
        "스파르타종합 = 스파르타종합.rename(columns ={\"단어\":\"word\",\"빈도수\":\"count\"})\n",
        "스파르타종합\n",
        "\n",
        "통합단어 = pd.concat([패캠통합, 인프런통합,스파르타종합], ignore_index=True)\n",
        "\n",
        "#중복 합치기\n",
        "ab = 통합단어.groupby(\"word\",as_index = False).agg({\"count\":\"sum\"})\n",
        "ab.sort_values(by=\"count\",ascending = False)\n",
        "\n",
        "통합단어=ab.sort_values(by=\"count\",ascending = False)\n",
        "통합단어\n",
        "\n",
        "통합단어 = 통합단어.reset_index(drop=True)\n",
        "#통합단어.to_csv(\"단어통합.csv\")\n",
        "\n",
        "pd.set_option('display.max_rows', None)\n",
        "\n",
        "\n",
        "#영어 대소문자 통일을 위해 전부 소문자로\n",
        "통합단어['word'] = 통합단어['word'].apply(lambda x: x.lower() if isinstance(x, str) else x)\n",
        "\n",
        "#중복합치기 한번더\n",
        "통합단어=통합단어.groupby(\"word\",as_index = False).agg({\"count\":\"sum\"})\n",
        "\n",
        "통합단어 = 통합단어.sort_values(by=\"count\",ascending=False)\n",
        "\n",
        "통합단어['word'] = 통합단어['word'].replace('python', '파이썬')\n",
        "통합단어['word'] = 통합단어['word'].replace('web', '웹')\n",
        "통합단어['word'] = 통합단어['word'].replace('spark&hadoop', 'sparkhadoop')\n",
        "통합단어['word'] = 통합단어['word'].replace('mysql', 'sql')\n",
        "통합단어['word'] = 통합단어['word'].replace('db', 'sql')\n",
        "통합단어['word'] = 통합단어['word'].replace('excel', '엑셀')\n",
        "\n",
        "통합단어 = 통합단어.groupby(\"word\",as_index = False).agg({\"count\":\"sum\"})\n",
        "통합단어 = 통합단어.sort_values(by=\"count\",ascending = False)\n",
        "\n",
        "통합단어.to_csv(\"추출단어정리.csv\",index=False)"
      ]
    }
  ]
}