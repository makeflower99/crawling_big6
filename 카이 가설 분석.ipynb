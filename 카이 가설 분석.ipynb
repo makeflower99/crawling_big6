{
 "cells": [
  {
   "cell_type": "markdown",
   "id": "40f19fc4",
   "metadata": {},
   "source": [
    "# 카이제곱분석"
   ]
  },
  {
   "cell_type": "code",
   "execution_count": 80,
   "id": "add280a5",
   "metadata": {},
   "outputs": [],
   "source": [
    "import pandas as pd\n",
    "from scipy.stats import chi2_contingency\n",
    "import pandas as pd\n",
    "import seaborn as sns\n",
    "import matplotlib.pyplot as plt\n",
    "from scipy.stats import chi2_contingency\n",
    "df = pd.read_excel(\"데이터리안자료.xlsx\",sheet_name = 'asd')\n",
    "df2=pd.read_csv(\"추출단어정리.csv\")\n",
    "df2 = df2.groupby(\"word\",as_index = False).agg({\"count\":\"sum\"})\n",
    "df2 = df2.sort_values(by=\"count\",ascending = False)\n",
    "\n",
    "카이제곱데이터리안 = df[['삭제후','빈도']]\n",
    "카이제곱데이터리안 = 카이제곱데이터리안.loc[0:6,:]\n",
    "\n",
    "#패캠 77개 스파르타코딩 11개 인프런1277\n",
    "df2[\"count/34.1\"]=df2['count']/34.1\n",
    "df2[\"count/34.1\"]=round(df2[\"count/34.1\"])\n",
    "\n",
    "pd.set_option('display.max_rows', None)\n",
    "\n",
    "# 가상의 데이터 생성 빈도 5 아래로 떨어뜨리기 싫어서 카이제곱데이터리안데이터 *34.1\n",
    "data = {\n",
    "    'SQL': [39*34.1, 93],\n",
    "    'python,R': [24*34.1, 168+34],\n",
    "    '가설설정 및 실험 설계(A/B 테스트)': [16*34.1, 62],#논문, 프로젝트 등의 가설설정과 실험설계가 필요한 파트\n",
    "    '시각화': [12*34.1, 42],#시각화툴도 포함한다는 가정\n",
    "    \"데이터 분석 방법론\":[11*34.1,16],#딥러닝+머신러닝+자연어 등\n",
    "    \"통계적 역량\":[15*34.1,4],#통계,수학,빅데이터등의 키워드\n",
    "    \"도메인 지식\":[6*34.1,10],#금융,부동산 ,도매인등의 키워드\n",
    "    \n",
    "}\n",
    "#데이터는카이제곱데이터리안이랑데이터는 count/34.1을 이용\n",
    "# 데이터프레임 생성\n",
    "dff = pd.DataFrame(data, index=['채용공고', '강좌제목'])\n",
    "\n",
    "# 카이제곱 검정 수행\n",
    "chi2_stat, p_val, dof, expected = chi2_contingency(dff)\n",
    "\\\n",
    "# observed 정의\n",
    "observed = dff.to_numpy()\n",
    "\n",
    "# 잔차 계산\n",
    "residuals = observed - expected\n",
    "\n",
    "# 시각화\n",
    "\n",
    "plt.rc('axes', unicode_minus=False) # 마이너스 폰트 설정\n",
    "plt.figure(figsize=(12, 6))\n",
    "sns.heatmap(residuals, annot=True, cmap='coolwarm', fmt=\".1f\", linewidths=.5, cbar_kws={'label': 'Residuals'})\n",
    "plt.rc('font', family='Malgun Gothic')\n",
    "# x축, y축 눈금 중앙에 위치하도록 설정\n",
    "plt.xticks(ticks=[i + 0.5 for i in range(len(dff.columns))], labels=dff.columns, rotation=90)\n",
    "plt.yticks(ticks=[i + 0.5 for i in range(len(dff.index))], labels=dff.index, rotation=0)\n",
    "\n",
    "plt.title(\"잔차 Heatmap\")\n",
    "plt.xlabel(\"변수\")\n",
    "plt.ylabel(\"채용공고 및 강좌제목\")\n",
    "plt.savefig('visualization.png', bbox_inches='tight') \n",
    "plt.show()\n",
    "\n",
    "##해석\n",
    "##그림에 나온 숫자들은 기대값-관측가\n"
   ]
  }
 ],
 "metadata": {
  "kernelspec": {
   "display_name": "Python 3 (ipykernel)",
   "language": "python",
   "name": "python3"
  },
  "language_info": {
   "codemirror_mode": {
    "name": "ipython",
    "version": 3
   },
   "file_extension": ".py",
   "mimetype": "text/x-python",
   "name": "python",
   "nbconvert_exporter": "python",
   "pygments_lexer": "ipython3",
   "version": "3.11.5"
  }
 },
 "nbformat": 4,
 "nbformat_minor": 5
}
